{
  "nbformat": 4,
  "nbformat_minor": 0,
  "metadata": {
    "colab": {
      "name": "Functional Programming 2.ipynb",
      "provenance": [],
      "include_colab_link": true
    },
    "kernelspec": {
      "name": "python3",
      "display_name": "Python 3"
    }
  },
  "cells": [
    {
      "cell_type": "markdown",
      "metadata": {
        "id": "view-in-github",
        "colab_type": "text"
      },
      "source": [
        "<a href=\"https://colab.research.google.com/github/rifyalt/digitalskola/blob/main/Functional_Programming_2.ipynb\" target=\"_parent\"><img src=\"https://colab.research.google.com/assets/colab-badge.svg\" alt=\"Open In Colab\"/></a>"
      ]
    },
    {
      "cell_type": "markdown",
      "metadata": {
        "id": "yCHEj5Kn_yAJ"
      },
      "source": [
        "# Functional Programming\n",
        "\n",
        "Ini adalah kelas python ke empat yang membahas function\n",
        "[ini adalah ppt nya](https://google.com)"
      ]
    },
    {
      "cell_type": "code",
      "metadata": {
        "colab": {
          "base_uri": "https://localhost:8080/"
        },
        "id": "fcMRFzF2Ahn1",
        "outputId": "0b719cb6-a24a-433b-b373-f0b723b81fab"
      },
      "source": [
        "def penjumlahan():\n",
        "    a = 2\n",
        "    b = 4\n",
        "    c = a + b\n",
        "    print('Result is', c)\n",
        "\n",
        "penjumlahan()"
      ],
      "execution_count": 1,
      "outputs": [
        {
          "output_type": "stream",
          "text": [
            "Result is 6\n"
          ],
          "name": "stdout"
        }
      ]
    },
    {
      "cell_type": "code",
      "metadata": {
        "colab": {
          "base_uri": "https://localhost:8080/"
        },
        "id": "En-6TirbAhbx",
        "outputId": "1f72333c-3ef3-47db-8d33-5e592f8de816"
      },
      "source": [
        "def perkalian(a, b):\n",
        "    c = a * b\n",
        "    print('Result is', c)\n",
        "\n",
        "perkalian(a=10, b=2)"
      ],
      "execution_count": 2,
      "outputs": [
        {
          "output_type": "stream",
          "text": [
            "Result is 20\n"
          ],
          "name": "stdout"
        }
      ]
    },
    {
      "cell_type": "code",
      "metadata": {
        "colab": {
          "base_uri": "https://localhost:8080/"
        },
        "id": "voowUpgW_X_n",
        "outputId": "1b2a7068-92f3-4f8f-998a-19443e11ea6a"
      },
      "source": [
        "def pembagian(a, b, c):\n",
        "    d = a / b / c\n",
        "    print('Process Succeeded')\n",
        "    return d\n",
        "\n",
        "angka = pembagian(10, 3, 2)\n",
        "print(angka)"
      ],
      "execution_count": 3,
      "outputs": [
        {
          "output_type": "stream",
          "text": [
            "Process Succeeded\n",
            "1.6666666666666667\n"
          ],
          "name": "stdout"
        }
      ]
    },
    {
      "cell_type": "code",
      "metadata": {
        "colab": {
          "base_uri": "https://localhost:8080/"
        },
        "id": "8npzZzO1D35n",
        "outputId": "e5e25bc6-07e9-4ec3-8af0-d16586a2f156"
      },
      "source": [
        "a = 20\n",
        "def pembagian(a, b, c):\n",
        "    d = a / b / c\n",
        "    print('Process Succeeded')\n",
        "    return d\n",
        "\n",
        "angka = pembagian(a, 3, 2)\n",
        "print(angka)"
      ],
      "execution_count": 4,
      "outputs": [
        {
          "output_type": "stream",
          "text": [
            "Process Succeeded\n",
            "3.3333333333333335\n"
          ],
          "name": "stdout"
        }
      ]
    },
    {
      "cell_type": "code",
      "metadata": {
        "id": "gITk134SEgTc"
      },
      "source": [
        "def nilai_ujian(nilai, th_bwh, th_atas):\n",
        "    # Kalau nilai di bawah threshold bawah, maka remedial\n",
        "    # Kalau nilai di atas threshold atas, maka sangat baik\n",
        "    if nilai < th_bwh:\n",
        "        keputusan = 'Remedial'\n",
        "    elif nilai > th_atas:\n",
        "        keputusan = 'Sangat Baik'\n",
        "    else:\n",
        "        keputusan = 'Baik'\n",
        "    print(keputusan)"
      ],
      "execution_count": 5,
      "outputs": []
    },
    {
      "cell_type": "code",
      "metadata": {
        "colab": {
          "base_uri": "https://localhost:8080/"
        },
        "id": "1kzQEFW6Gyb6",
        "outputId": "6a1d010c-d718-4863-aa17-0c5d984ab806"
      },
      "source": [
        "nilai_ujian(nilai=95, th_bwh=70, th_atas=90)"
      ],
      "execution_count": 6,
      "outputs": [
        {
          "output_type": "stream",
          "text": [
            "Sangat Baik\n"
          ],
          "name": "stdout"
        }
      ]
    },
    {
      "cell_type": "code",
      "metadata": {
        "id": "J0IkepUvHTrY"
      },
      "source": [
        "def nilai_ujian_baru(nilai, th_bwh=70, th_atas=90):\n",
        "    # Pseudocode\n",
        "    # Kalau nilai di bawah threshold bawah (default 70), maka remedial\n",
        "    # Kalau nilai di atas threshold atas (default 90), maka sangat baik\n",
        "    if nilai < th_bwh:\n",
        "        keputusan = 'Remedial'\n",
        "    elif nilai > th_atas:\n",
        "        keputusan = 'Sangat Baik'\n",
        "    else:\n",
        "        keputusan = 'Baik'\n",
        "    print(keputusan)\n",
        "    return keputusan"
      ],
      "execution_count": 7,
      "outputs": []
    },
    {
      "cell_type": "code",
      "metadata": {
        "colab": {
          "base_uri": "https://localhost:8080/"
        },
        "id": "IXdPGamHHjRy",
        "outputId": "032cd70b-b694-4080-bac7-c6e35ab3f972"
      },
      "source": [
        "c = nilai_ujian_baru(20)"
      ],
      "execution_count": 8,
      "outputs": [
        {
          "output_type": "stream",
          "text": [
            "Remedial\n"
          ],
          "name": "stdout"
        }
      ]
    },
    {
      "cell_type": "code",
      "metadata": {
        "id": "oj4HQLm9HnD8"
      },
      "source": [
        "# [10, 40, 70, 50, 90]\n",
        "def nilai_nilai_ujian(kumpulan_nilai, th_bwh=70, th_atas=90):\n",
        "    # Pseudocode\n",
        "    # Kalau nilai di bawah threshold bawah (default 70), maka remedial\n",
        "    # Kalau nilai di atas threshold atas (default 90), maka sangat baik\n",
        "    list_keputusan = []\n",
        "    for nilai in kumpulan_nilai:\n",
        "        if nilai < th_bwh:\n",
        "            keputusan = 'Remedial'\n",
        "        elif nilai > th_atas:\n",
        "            keputusan = 'Sangat Baik'\n",
        "        else:\n",
        "            keputusan = 'Baik'\n",
        "        list_keputusan.append(keputusan)\n",
        "    print(list_keputusan)\n",
        "    return list_keputusan"
      ],
      "execution_count": 9,
      "outputs": []
    },
    {
      "cell_type": "code",
      "metadata": {
        "colab": {
          "base_uri": "https://localhost:8080/"
        },
        "id": "84JLyL_vKIcD",
        "outputId": "1eef0fd3-75d4-41e4-a550-870128bd01b7"
      },
      "source": [
        "list_nilai = [80, 70, 85, 40, 20, 100]\n",
        "hasil_keputusan = nilai_nilai_ujian(kumpulan_nilai=list_nilai)"
      ],
      "execution_count": 10,
      "outputs": [
        {
          "output_type": "stream",
          "text": [
            "['Baik', 'Baik', 'Baik', 'Remedial', 'Remedial', 'Sangat Baik']\n"
          ],
          "name": "stdout"
        }
      ]
    },
    {
      "cell_type": "code",
      "metadata": {
        "id": "_ZWJ04VuLC4q"
      },
      "source": [
        "def pembuat_keputusan(nilai, th_bwh, th_atas):\n",
        "    if nilai < th_bwh:\n",
        "        keputusan = 'Remedial'\n",
        "    elif nilai > th_atas:\n",
        "        keputusan = 'Sangat Baik'\n",
        "    else:\n",
        "        keputusan = 'Baik'\n",
        "    return keputusan\n",
        "\n",
        "# [10, 40, 70, 50, 90]\n",
        "def nilai_nilai_ujian(kumpulan_nilai, th_bwh=70, th_atas=90):\n",
        "    # Pseudocode\n",
        "    # Kalau nilai di bawah threshold bawah (default 70), maka remedial\n",
        "    # Kalau nilai di atas threshold atas (default 90), maka sangat baik\n",
        "    \n",
        "    list_keputusan = []\n",
        "\n",
        "    for nilai in kumpulan_nilai:\n",
        "        decision = pembuat_keputusan(nilai, th_bwh, th_atas)\n",
        "        list_keputusan.append(decision)\n",
        "\n",
        "    print(list_keputusan)\n",
        "    return list_keputusan"
      ],
      "execution_count": 11,
      "outputs": []
    },
    {
      "cell_type": "code",
      "metadata": {
        "colab": {
          "base_uri": "https://localhost:8080/"
        },
        "id": "71o00oRKNcLz",
        "outputId": "fc5e2cd2-433f-402d-83b9-7e559a80f78f"
      },
      "source": [
        "list_nilai = [80, 70, 85, 40, 20, 100]\n",
        "hasil_keputusan = nilai_nilai_ujian(kumpulan_nilai=list_nilai)"
      ],
      "execution_count": 12,
      "outputs": [
        {
          "output_type": "stream",
          "text": [
            "['Baik', 'Baik', 'Baik', 'Remedial', 'Remedial', 'Sangat Baik']\n"
          ],
          "name": "stdout"
        }
      ]
    },
    {
      "cell_type": "markdown",
      "metadata": {
        "id": "OXqK0ijsOtwe"
      },
      "source": [
        "# Introduction to Library"
      ]
    },
    {
      "cell_type": "code",
      "metadata": {
        "id": "6jZhREZQNeB9"
      },
      "source": [
        "import pandas as pd\n",
        "import numpy as np\n",
        "import matplotlib\n",
        "\n",
        "import pandas as pd, numpy as np, matplotlib"
      ],
      "execution_count": 13,
      "outputs": []
    },
    {
      "cell_type": "code",
      "metadata": {
        "id": "O2ntJCvhPML-"
      },
      "source": [
        "from matplotlib import pyplot as plt"
      ],
      "execution_count": 14,
      "outputs": []
    },
    {
      "cell_type": "markdown",
      "metadata": {
        "id": "ejo5EbtQPrkL"
      },
      "source": [
        "# String Manipulation"
      ]
    },
    {
      "cell_type": "code",
      "metadata": {
        "id": "qhYnJLj9P76G"
      },
      "source": [
        ""
      ],
      "execution_count": 14,
      "outputs": []
    }
  ]
}