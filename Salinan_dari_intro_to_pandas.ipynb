{
  "nbformat": 4,
  "nbformat_minor": 0,
  "metadata": {
    "colab": {
      "name": "Salinan dari intro_to_pandas.ipynb",
      "provenance": [],
      "collapsed_sections": [
        "JndnmDMp66FL",
        "YHIWvc9Ms-Ll",
        "TJffr5_Jwqvd"
      ],
      "include_colab_link": true
    },
    "kernelspec": {
      "name": "python3",
      "display_name": "Python 3"
    }
  },
  "cells": [
    {
      "cell_type": "markdown",
      "metadata": {
        "id": "view-in-github",
        "colab_type": "text"
      },
      "source": [
        "<a href=\"https://colab.research.google.com/github/rifyalt/digitalskola/blob/main/Salinan_dari_intro_to_pandas.ipynb\" target=\"_parent\"><img src=\"https://colab.research.google.com/assets/colab-badge.svg\" alt=\"Open In Colab\"/></a>"
      ]
    },
    {
      "cell_type": "markdown",
      "metadata": {
        "id": "JndnmDMp66FL"
      },
      "source": [
        "#### Copyright 2017 Google LLC."
      ]
    },
    {
      "cell_type": "code",
      "metadata": {
        "cellView": "both",
        "id": "hMqWDc_m6rUC"
      },
      "source": [
        "# Licensed under the Apache License, Version 2.0 (the \"License\");\n",
        "# you may not use this file except in compliance with the License.\n",
        "# You may obtain a copy of the License at\n",
        "#\n",
        "# https://www.apache.org/licenses/LICENSE-2.0\n",
        "#\n",
        "# Unless required by applicable law or agreed to in writing, software\n",
        "# distributed under the License is distributed on an \"AS IS\" BASIS,\n",
        "# WITHOUT WARRANTIES OR CONDITIONS OF ANY KIND, either express or implied.\n",
        "# See the License for the specific language governing permissions and\n",
        "# limitations under the License."
      ],
      "execution_count": null,
      "outputs": []
    },
    {
      "cell_type": "markdown",
      "metadata": {
        "id": "rHLcriKWLRe4"
      },
      "source": [
        "# Pengantar Singkat tentang pandas"
      ]
    },
    {
      "cell_type": "markdown",
      "metadata": {
        "id": "QvJBqX8_Bctk"
      },
      "source": [
        "**Tujuan Pembelajaran:**\n",
        "  * Memperoleh pengantar tentang struktur data `DataFrame` dan `Series` dari library *pandas*\n",
        "  * Mengakses dan memanipulasi data dalam `DataFrame` dan `Series`\n",
        "  * Mengimpor data CSV ke dalam `DataFrame` *pandas*\n",
        "  * Mengindeks ulang `DataFrame` untuk mengacak data"
      ]
    },
    {
      "cell_type": "markdown",
      "metadata": {
        "id": "TIFJ83ZTBctl"
      },
      "source": [
        "[*pandas*](http://pandas.pydata.org/) adalah API analisis data yang berorientasi pada kolom. API ini merupakan fitur yang canggih untuk menangani dan menganalisis data masukan, dan banyak framework ML mendukung struktur data *pandas* sebagai masukan.\n",
        "Meskipun pengantar yang komprehensif mengenai *pandas* API memerlukan penjabaran yang panjang, konsep intinya cukup mudah, dan kita akan mempresentasikannya di bawah. Untuk mengetahui referensi yang lebih lengkap, kunjungi [situs dokumen *pandas*](http://pandas.pydata.org/pandas-docs/stable/index.html) yang berisi dokumentasi ekstensif dan berbagai tutorial."
      ]
    },
    {
      "cell_type": "markdown",
      "metadata": {
        "id": "s_JOISVgmn9v"
      },
      "source": [
        "## Konsep Dasar\n",
        "\n",
        "Baris berikut ini mengimpor *pandas* API dan mencetak versi API tersebut:"
      ]
    },
    {
      "cell_type": "code",
      "metadata": {
        "id": "aSRYu62xUi3g"
      },
      "source": [
        "from __future__ import print_function\n",
        "\n",
        "import pandas as pd\n",
        "pd.__version__"
      ],
      "execution_count": null,
      "outputs": []
    },
    {
      "cell_type": "markdown",
      "metadata": {
        "id": "daQreKXIUslr"
      },
      "source": [
        "Struktur data utama di *pandas* diterapkan sebagai dua kelas:\n",
        "\n",
        "  * **`DataFrame`**, yang dapat Anda bayangkan sebagai tabel data relasional, dengan baris dan kolom yang diberi nama.\n",
        "  * **`Series`**, yang merupakan kolom tunggal. `DataFrame` berisi satu atau beberapa `Series` dan sebuah nama untuk tiap `Series`.\n",
        "\n",
        "Frame data adalah abstraksi yang umum digunakan untuk manipulasi data. Penerapan yang serupa ada di [Spark](https://spark.apache.org/) dan [R](https://www.r-project.org/about.html)."
      ]
    },
    {
      "cell_type": "markdown",
      "metadata": {
        "id": "fjnAk1xcU0yc"
      },
      "source": [
        "Salah satu cara untuk membuat `Series` adalah dengan membangun objek `Series`. Sebagai contoh:"
      ]
    },
    {
      "cell_type": "code",
      "metadata": {
        "id": "DFZ42Uq7UFDj"
      },
      "source": [
        "pd.Series(['San Francisco', 'San Jose', 'Sacramento'])"
      ],
      "execution_count": null,
      "outputs": []
    },
    {
      "cell_type": "markdown",
      "metadata": {
        "id": "U5ouUp1cU6pC"
      },
      "source": [
        "Objek `DataFrame` dapat dibuat dengan meneruskan `dict` yang memetakan nama kolom `string` ke masing-masing `Series`. Jika panjang `Series` tidak sesuai, nilai yang hilang akan diisi dengan nilai [NA/NaN](http://pandas.pydata.org/pandas-docs/stable/missing_data.html) khusus. Misalnya:"
      ]
    },
    {
      "cell_type": "code",
      "metadata": {
        "id": "avgr6GfiUh8t"
      },
      "source": [
        "city_names = pd.Series(['San Francisco', 'San Jose', 'Sacramento'])\n",
        "population = pd.Series([852469, 1015785, 485199])\n",
        "\n",
        "pd.DataFrame({ 'City name': city_names, 'Population': population })"
      ],
      "execution_count": null,
      "outputs": []
    },
    {
      "cell_type": "markdown",
      "metadata": {
        "id": "oa5wfZT7VHJl"
      },
      "source": [
        "Namun, Anda biasanya perlu memuat seluruh file ke dalam `DataFrame`. Contoh berikut berisi pemuatan file yang berisi data perumahan California. Jalankan sel berikut untuk memuat data dan membuat definisi fitur:"
      ]
    },
    {
      "cell_type": "code",
      "metadata": {
        "id": "av6RYOraVG1V"
      },
      "source": [
        "california_housing_dataframe = pd.read_csv(\"https://download.mlcc.google.com/mledu-datasets/california_housing_train.csv\", sep=\",\")\n",
        "california_housing_dataframe.describe()"
      ],
      "execution_count": null,
      "outputs": []
    },
    {
      "cell_type": "markdown",
      "metadata": {
        "id": "WrkBjfz5kEQu"
      },
      "source": [
        "Contoh di atas menggunakan `DataFrame.describe` untuk menampilkan statistik yang menarik tentang `DataFrame`. Fungsi yang berguna lainnya adalah `DataFrame.head`, yang menampilkan beberapa data pertama dari `DataFrame`:"
      ]
    },
    {
      "cell_type": "code",
      "metadata": {
        "id": "s3ND3bgOkB5k"
      },
      "source": [
        "california_housing_dataframe.head()"
      ],
      "execution_count": null,
      "outputs": []
    },
    {
      "cell_type": "markdown",
      "metadata": {
        "id": "w9-Es5Y6laGd"
      },
      "source": [
        "Fitur canggih lainnya dari *pandas* adalah grafik. Misalnya, `DataFrame.hist` memungkinkan Anda belajar distribusi nilai dalam kolom dengan cepat:"
      ]
    },
    {
      "cell_type": "code",
      "metadata": {
        "id": "nqndFVXVlbPN"
      },
      "source": [
        "california_housing_dataframe.hist('housing_median_age')"
      ],
      "execution_count": null,
      "outputs": []
    },
    {
      "cell_type": "markdown",
      "metadata": {
        "id": "XtYZ7114n3b-"
      },
      "source": [
        "## Mengakses Data\n",
        "\n",
        "Anda dapat mengakses data `DataFrame` menggunakan operasi daftar/kamus Python yang dikenal:"
      ]
    },
    {
      "cell_type": "code",
      "metadata": {
        "id": "_TFm7-looBFF"
      },
      "source": [
        "cities = pd.DataFrame({ 'City name': city_names, 'Population': population })\n",
        "print(type(cities['City name']))\n",
        "cities['City name']"
      ],
      "execution_count": null,
      "outputs": []
    },
    {
      "cell_type": "code",
      "metadata": {
        "id": "V5L6xacLoxyv"
      },
      "source": [
        "print(type(cities['City name'][1]))\n",
        "cities['City name'][1]"
      ],
      "execution_count": null,
      "outputs": []
    },
    {
      "cell_type": "code",
      "metadata": {
        "id": "gcYX1tBPugZl"
      },
      "source": [
        "print(type(cities[0:2]))\n",
        "cities[0:2]"
      ],
      "execution_count": null,
      "outputs": []
    },
    {
      "cell_type": "markdown",
      "metadata": {
        "id": "65g1ZdGVjXsQ"
      },
      "source": [
        "Selain itu, *pandas* menyediakan API yang sangat kaya untuk [pemilihan dan pengindeksan](http://pandas.pydata.org/pandas-docs/stable/indexing.html) tingkat lanjut yang terlalu ekstensif untuk dibahas di sini."
      ]
    },
    {
      "cell_type": "markdown",
      "metadata": {
        "id": "RM1iaD-ka3Y1"
      },
      "source": [
        "## Memanipulasi Data\n",
        "\n",
        "Anda dapat menerapkan operasi aritmetika dasar Python ke `Series`. Misalnya:"
      ]
    },
    {
      "cell_type": "code",
      "metadata": {
        "id": "XWmyCFJ5bOv-"
      },
      "source": [
        "population / 1000."
      ],
      "execution_count": null,
      "outputs": []
    },
    {
      "cell_type": "markdown",
      "metadata": {
        "id": "TQzIVnbnmWGM"
      },
      "source": [
        "[NumPy](http://www.numpy.org/) adalah toolkit populer untuk penghitungan ilmiah. `Series` *pandas* dapat digunakan sebagai argumen untuk sebagian besar fungsi NumPy:"
      ]
    },
    {
      "cell_type": "code",
      "metadata": {
        "id": "ko6pLK6JmkYP"
      },
      "source": [
        "import numpy as np\n",
        "\n",
        "np.log(population)"
      ],
      "execution_count": null,
      "outputs": []
    },
    {
      "cell_type": "markdown",
      "metadata": {
        "id": "xmxFuQmurr6d"
      },
      "source": [
        "Untuk transformasi kolom tunggal yang lebih kompleks, Anda dapat menggunakan `Series.apply`. Seperti [fungsi pemetaan](https://docs.python.org/2/library/functions.html#map) Python, \n",
        "`Series.apply` menerima [fungsi lambda](https://docs.python.org/2/tutorial/controlflow.html#lambda-expressions) sebagai argumen, yang diterapkan ke tiap nilai.\n",
        "\n",
        "Contoh di bawah berisi pembuatan `Series` baru yang menunjukkan apakah `population` berjumlah di atas satu juta:"
      ]
    },
    {
      "cell_type": "code",
      "metadata": {
        "id": "Fc1DvPAbstjI"
      },
      "source": [
        "population.apply(lambda val: val > 1000000)"
      ],
      "execution_count": null,
      "outputs": []
    },
    {
      "cell_type": "markdown",
      "metadata": {
        "id": "ZeYYLoV9b9fB"
      },
      "source": [
        "\n",
        "Mengubah `DataFrames` juga mudah. Misalnya, kode berikut menambahkan dua `Series` ke `DataFrame` yang sudah ada:"
      ]
    },
    {
      "cell_type": "code",
      "metadata": {
        "id": "0gCEX99Hb8LR"
      },
      "source": [
        "cities['Area square miles'] = pd.Series([46.87, 176.53, 97.92])\n",
        "cities['Population density'] = cities['Population'] / cities['Area square miles']\n",
        "cities"
      ],
      "execution_count": null,
      "outputs": []
    },
    {
      "cell_type": "markdown",
      "metadata": {
        "id": "6qh63m-ayb-c"
      },
      "source": [
        "## Latihan #1\n",
        "\n",
        "Ubah tabel `cities` dengan menambahkan kolom boolean baru yang bernilai BENAR, jika dan hanya jika *kedua* hal berikut bernilai BENAR:\n",
        "\n",
        "  * Kota memiliki nama yang berawalan saint (santo).\n",
        "  * Luas kota lebih besar dari 50 mil persegi.\n",
        "\n",
        "**Catatan:** `Series` boolean digabungkan menggunakan operator bitwise, bukan boolean tradisional. Misalnya, saat menjalankan *logical and*, gunakan `&` bukan `and`.\n",
        "\n",
        "**Petunjuk:** \"San\" dalam bahasa Spanyol berarti \"santo\"."
      ]
    },
    {
      "cell_type": "code",
      "metadata": {
        "id": "zCOn8ftSyddH"
      },
      "source": [
        "# Your code here"
      ],
      "execution_count": null,
      "outputs": []
    },
    {
      "cell_type": "markdown",
      "metadata": {
        "id": "YHIWvc9Ms-Ll"
      },
      "source": [
        "### Solusi\n",
        "\n",
        "Klik di bawah untuk mendapatkan solusi."
      ]
    },
    {
      "cell_type": "code",
      "metadata": {
        "id": "T5OlrqtdtCIb"
      },
      "source": [
        "cities['Is wide and has saint name'] = (cities['Area square miles'] > 50) & cities['City name'].apply(lambda name: name.startswith('San'))\n",
        "cities"
      ],
      "execution_count": null,
      "outputs": []
    },
    {
      "cell_type": "markdown",
      "metadata": {
        "id": "f-xAOJeMiXFB"
      },
      "source": [
        "## Indeks\n",
        "Objek `Series` dan `DataFrame` juga menentukan properti `index` yang menetapkan nilai ID ke setiap item `Series` atau baris `DataFrame`. \n",
        "\n",
        "Secara default, saat melakukan konstruksi, *pandas* menetapkan nilai indeks yang mencerminkan pengurutan data sumber. Setelah dibuat, nilai indeks bersifat stabil; artinya, nilai tersebut tidak berubah saat data diurutkan kembali."
      ]
    },
    {
      "cell_type": "code",
      "metadata": {
        "id": "2684gsWNinq9"
      },
      "source": [
        "city_names.index"
      ],
      "execution_count": null,
      "outputs": []
    },
    {
      "cell_type": "code",
      "metadata": {
        "id": "F_qPe2TBjfWd"
      },
      "source": [
        "cities.index"
      ],
      "execution_count": null,
      "outputs": []
    },
    {
      "cell_type": "markdown",
      "metadata": {
        "id": "hp2oWY9Slo_h"
      },
      "source": [
        "Panggil `DataFrame.reindex` untuk mengurutkan kembali baris secara manual. Misalnya, berikut ini memiliki efek yang sama seperti mengurutkan berdasarkan nama kota:"
      ]
    },
    {
      "cell_type": "code",
      "metadata": {
        "id": "sN0zUzSAj-U1"
      },
      "source": [
        "cities.reindex([2, 0, 1])"
      ],
      "execution_count": null,
      "outputs": []
    },
    {
      "cell_type": "markdown",
      "metadata": {
        "id": "-GQFz8NZuS06"
      },
      "source": [
        "Pengindeksan ulang adalah cara yang tepat untuk mengacak `DataFrame`. Pada contoh di bawah, kita mengambil indeks, yang menyerupai array, dan meneruskannya ke fungsi `random.permutation` NumPy, yang akan mengacak nilainya. Memanggil `reindex` dengan array yang diacak ini akan membuat baris `DataFrame` teracak dengan cara yang sama.\n",
        "Coba jalankan sel berikut beberapa kali."
      ]
    },
    {
      "cell_type": "code",
      "metadata": {
        "id": "mF8GC0k8uYhz"
      },
      "source": [
        "cities.reindex(np.random.permutation(cities.index))"
      ],
      "execution_count": null,
      "outputs": []
    },
    {
      "cell_type": "markdown",
      "metadata": {
        "id": "fSso35fQmGKb"
      },
      "source": [
        "Untuk mengetahui informasi selengkapnya, lihat [dokumentasi Indeks](http://pandas.pydata.org/pandas-docs/stable/indexing.html#index-objects)."
      ]
    },
    {
      "cell_type": "markdown",
      "metadata": {
        "id": "8UngIdVhz8C0"
      },
      "source": [
        "## Latihan #2\n",
        "\n",
        "Metode `reindex` mengizinkan nilai indeks yang tidak ada di nilai indeks `DataFrame`' asli. Cobalah dan lihat apa yang terjadi jika Anda menggunakan nilai tersebut. Menurut Anda, mengapa metode ini diizinkan?"
      ]
    },
    {
      "cell_type": "code",
      "metadata": {
        "id": "PN55GrDX0jzO"
      },
      "source": [
        "# Your code here"
      ],
      "execution_count": null,
      "outputs": []
    },
    {
      "cell_type": "markdown",
      "metadata": {
        "id": "TJffr5_Jwqvd"
      },
      "source": [
        "### Solusi\n",
        "\n",
        "Klik di bawah ini untuk mendapatkan solusi."
      ]
    },
    {
      "cell_type": "markdown",
      "metadata": {
        "id": "8oSvi2QWwuDH"
      },
      "source": [
        "Jika array masukan `reindex` Anda mencakup nilai yang tidak ada di nilai indeks `DataFrame` asli, `reindex` akan menambahkan baris baru untuk indeks yang \"hilang\" tersebut, dan mengisi semua kolom terkait dengan nilai `NaN`:"
      ]
    },
    {
      "cell_type": "code",
      "metadata": {
        "id": "yBdkucKCwy4x"
      },
      "source": [
        "cities.reindex([0, 4, 5, 2])"
      ],
      "execution_count": null,
      "outputs": []
    },
    {
      "cell_type": "markdown",
      "metadata": {
        "id": "2l82PhPbwz7g"
      },
      "source": [
        "Perilaku ini disukai karena indeks sering kali berupa string yang diambil dari data yang sebenarnya (lihat [dokumentasi pengindeksan ulang *pandas*](http://pandas.pydata.org/pandas-docs/stable/generated/pandas.DataFrame.reindex.html) untuk mengetahui contoh nilai indeks yang merupakan nama browser).\n",
        "\n",
        "Dalam kasus ini, pengindeksan ulang akan lebih mudah dilakukan jika indeks yang \"hilang\" diizinkan menggunakan daftar eksternal, karena Anda tidak perlu khawatir mengenai pembersihan masukan."
      ]
    }
  ]
}